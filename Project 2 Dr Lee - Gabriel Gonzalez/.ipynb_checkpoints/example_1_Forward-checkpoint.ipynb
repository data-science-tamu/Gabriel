{
 "cells": [
  {
   "cell_type": "code",
   "execution_count": 1,
   "metadata": {},
   "outputs": [
    {
     "name": "stdout",
     "output_type": "stream",
     "text": [
      "2.5.1+cpu\n",
      "<torch._C.Generator object at 0x000002378E3F82B0>\n"
     ]
    }
   ],
   "source": [
    "import torch\n",
    "print(torch.__version__)           # Should print the PyTorch version\n",
    "print(torch.manual_seed(0))        # Should work without errors\n"
   ]
  },
  {
   "cell_type": "code",
   "execution_count": 2,
   "metadata": {},
   "outputs": [],
   "source": [
    "import sys\n",
    "sys.path.append('./src')\n",
    "import numpy as np\n",
    "import torch\n",
    "import matplotlib.pyplot as plt\n",
    "from matplotlib.animation import FuncAnimation\n",
    "from mpl_toolkits.mplot3d import Axes3D\n",
    "from torch.autograd import Variable, grad\n",
    "from src.model import FNN\n",
    "from src.util import *\n",
    "from src.train import *\n",
    "import time"
   ]
  },
  {
   "cell_type": "markdown",
   "metadata": {},
   "source": [
    "### Forward Appraoch (Given Code) + Visualization"
   ]
  },
  {
   "cell_type": "code",
   "execution_count": 3,
   "metadata": {},
   "outputs": [],
   "source": [
    "def PDE(x,y,z,t,net):\n",
    "    X = torch.cat([x,y,z,t],axis=-1)\n",
    "    T = net(X)\n",
    "    \n",
    "    T_t = grad(T,t,create_graph=True,grad_outputs=torch.ones_like(T))[0]\n",
    "\n",
    "    T_x = grad(T,x,create_graph=True,grad_outputs=torch.ones_like(T))[0]\n",
    "    T_xx = grad(T_x,x,create_graph=True,grad_outputs=torch.ones_like(T_x))[0]\n",
    "    \n",
    "    T_y = grad(T,y,create_graph=True,grad_outputs=torch.ones_like(T))[0]\n",
    "    T_yy = grad(T_y,y,create_graph=True,grad_outputs=torch.ones_like(T_y))[0]\n",
    "    \n",
    "    T_z = grad(T,z,create_graph=True,grad_outputs=torch.ones_like(T))[0]\n",
    "    T_zz = grad(T_z,z,create_graph=True,grad_outputs=torch.ones_like(T_z))[0]\n",
    "    \n",
    "    f = rho*Cp*T_t - k*(T_xx+T_yy+T_zz)\n",
    "\n",
    "    return f\n"
   ]
  },
  {
   "cell_type": "code",
   "execution_count": 4,
   "metadata": {},
   "outputs": [],
   "source": [
    "def generate_points(p=[],f=[]):\n",
    "\n",
    "    t = np.linspace(x_min[3]+0.01,x_max[3],61)\n",
    "\n",
    "    # boundary points\n",
    "    bound_x_neg,_ = sampling_uniform(1.,x_min,x_max,'-x',t)\n",
    "    bound_x_pos,_ = sampling_uniform(1.,x_min,x_max,'+x',t)\n",
    "\n",
    "    bound_y_neg,_ = sampling_uniform(1.,x_min,x_max,'-y',t)\n",
    "    bound_y_pos,_ = sampling_uniform(1.,x_min,x_max,'+y',t)\n",
    "\n",
    "    bound_z_neg,_ = sampling_uniform(1.,x_min,x_max,'-z',t)\n",
    "    bound_z_pos,_ = sampling_uniform(1.,x_min,x_max,'+z',t)\n",
    "\n",
    "    bound_z_pos_more = [] # more points for surface flux\n",
    "    \n",
    "    for ti in t:\n",
    "        if ti<=t_end:\n",
    "            zi,_ = sampling_uniform(.25,\n",
    "                        [max(x0+ti*v-2*r,x_min[0]),max(x_min[1],y0-2*r),x_min[2]],\n",
    "                        [min(x0+ti*v+2*r,x_max[0]),min(x_max[1],y0+2*r),x_max[2]],\n",
    "                        '+z',[ti])\n",
    "            bound_z_pos_more.append(zi)\n",
    "\n",
    "    bound_z_pos_more = np.vstack(bound_z_pos_more)\n",
    "    bound_z_pos = np.vstack((bound_z_pos,bound_z_pos_more))\n",
    "\n",
    "    ### domain points\n",
    "    domain_pts1,_ = sampling_uniform(2.,\n",
    "                                     [x_min[0],x_min[1],x_min[2]],\n",
    "                                     [x_max[0],x_max[1],x_max[2]-3.],'domain',t)\n",
    "\n",
    "    domain_pts2,_ = sampling_uniform(1.,\n",
    "                                     [x_min[0],x_min[1],x_max[2]-3.+.5],\n",
    "                                     [x_max[0],x_max[1],x_max[2]-1.],'domain',t)\n",
    "\n",
    "    domain_pts3 = []\n",
    "    for ti in t:\n",
    "        di,_ = sampling_uniform(.5,\n",
    "                                [x_min[0],x_min[1],x_max[2]-1.+.25,],\n",
    "                                [x_max[0],x_max[1],x_max[2]],'domain',[ti])\n",
    "        domain_pts3.append(di)\n",
    "    domain_pts3 = np.vstack(domain_pts3)\n",
    "    domain_pts = np.vstack((domain_pts1,domain_pts2,domain_pts3))\n",
    "\n",
    "    # initial points\n",
    "    init_pts1,_ = sampling_uniform(2.,[x_min[0],x_min[1],x_min[2]],\n",
    "                                   [x_max[0],x_max[1],x_max[2]],'domain',[0],e=0)\n",
    "    # more points near the toolpath origin\n",
    "    init_pts2,_ = sampling_uniform(.5,[x0-2,y0-2,x_max[2]-2],\n",
    "                                   [x0+2,y0+2,x_max[2]],'domain',[0])\n",
    "    \n",
    "    init_pts = np.vstack((init_pts1,init_pts2))\n",
    "    \n",
    "\n",
    "    p.extend([torch.tensor(bound_x_neg,requires_grad=True,dtype=torch.float).to(device),\n",
    "              torch.tensor(bound_x_pos,requires_grad=True,dtype=torch.float).to(device),\n",
    "              torch.tensor(bound_y_neg,requires_grad=True,dtype=torch.float).to(device),\n",
    "              torch.tensor(bound_y_pos,requires_grad=True,dtype=torch.float).to(device),\n",
    "              torch.tensor(bound_z_neg,requires_grad=True,dtype=torch.float).to(device),\n",
    "              torch.tensor(bound_z_pos,requires_grad=True,dtype=torch.float).to(device),\n",
    "              torch.tensor(init_pts,requires_grad=True,dtype=torch.float).to(device),\n",
    "              torch.tensor(domain_pts,requires_grad=True,dtype=torch.float).to(device)])\n",
    "    f.extend([['BC','-x'],['BC','+x'],['BC','-y'],['BC','+y'],['BC','-z'],['BC','+z'],['IC',T_ref],['domain']])\n",
    "    \n",
    "    return p,f"
   ]
  },
  {
   "cell_type": "code",
   "execution_count": 5,
   "metadata": {},
   "outputs": [],
   "source": [
    "def BC(x,y,z,t,net,loc):\n",
    "    X = torch.cat([x,y,z,t],axis=-1)\n",
    "    T = net(X)\n",
    "    if loc == '-x':\n",
    "        T_x = grad(T,x,create_graph=True,grad_outputs=torch.ones_like(T))[0]\n",
    "        return k*T_x - h*(T-T_ref) - Rboltz*emiss*(T**4-T_ref**4)\n",
    "    if loc == '+x':\n",
    "        T_x = grad(T,x,create_graph=True,grad_outputs=torch.ones_like(T))[0]\n",
    "        return -k*T_x - h*(T-T_ref) - Rboltz*emiss*(T**4-T_ref**4)\n",
    "    if loc == '-y':\n",
    "        T_y = grad(T,y,create_graph=True,grad_outputs=torch.ones_like(T))[0]\n",
    "        return k*T_y - h*(T-T_ref) - Rboltz*emiss*(T**4-T_ref**4)\n",
    "    if loc == '+y':\n",
    "        T_y = grad(T,y,create_graph=True,grad_outputs=torch.ones_like(T))[0]\n",
    "        return -k*T_y - h*(T-T_ref) - Rboltz*emiss*(T**4-T_ref**4)\n",
    "    if loc == '-z':\n",
    "        T_t = grad(T,t,create_graph=True,grad_outputs=torch.ones_like(T))[0]\n",
    "        return T_t\n",
    "    if loc == '+z':\n",
    "        T_z = grad(T,z,create_graph=True,grad_outputs=torch.ones_like(T))[0]\n",
    "        q = 2*P*eta/3.14159265/r**2*torch.exp(-2*(torch.square(x-x0-v*t)+torch.square(y-y0))/r**2)*(t<=t_end)*(t>0)\n",
    "        return -k*T_z - h*(T-T_ref) - Rboltz*emiss*(T**4-T_ref**4) + q"
   ]
  },
  {
   "cell_type": "code",
   "execution_count": 6,
   "metadata": {},
   "outputs": [],
   "source": [
    "def output_transform(X):\n",
    "    X = T_range*nn.Softplus()(X)+ T_ref\n",
    "    return X\n",
    "\n",
    "\n",
    "def input_transform(X):\n",
    "    X = 2.*(X-X_min)/(X_max-X_min) - 1.\n",
    "    return X"
   ]
  },
  {
   "cell_type": "code",
   "execution_count": null,
   "metadata": {
    "scrolled": true
   },
   "outputs": [
    {
     "name": "stdout",
     "output_type": "stream",
     "text": [
      "It: 0, Loss: 7.908e+03, BC: 2.314e+04, IC: 5.829e+06, PDE: 1.652e+00, Time: 6.30\n",
      ", Test: 4.669e+06\n",
      "It: 1, Loss: 7.733e+03, BC: 2.262e+04, IC: 5.801e+06, PDE: 1.622e+00, Time: 72.52\n",
      ", Test: 4.662e+06\n",
      "It: 2, Loss: 7.561e+03, BC: 2.210e+04, IC: 5.773e+06, PDE: 1.592e+00, Time: 132.64\n",
      ", Test: 4.655e+06\n"
     ]
    }
   ],
   "source": [
    "import os\n",
    "import matplotlib.pyplot as plt\n",
    "\n",
    "device = torch.device(\"cuda:0\" if torch.cuda.is_available() else \"cpu\")\n",
    "# domain\n",
    "x_max = np.array([40., 10., 6., 3.])\n",
    "x_min = np.array([0. ,  0., 0., 0.])\n",
    "X_max = torch.tensor(x_max,dtype=torch.float).to(device)\n",
    "X_min = torch.tensor(x_min,dtype=torch.float).to(device)\n",
    "    \n",
    "# laser params\n",
    "x0 = 5.\n",
    "y0 = 5.\n",
    "r = 1.5\n",
    "v = 10. \n",
    "t_end = 3.\n",
    "P = 500.\n",
    "eta = .4\n",
    "\n",
    "# T_ambient, and max T range\n",
    "T_ref = 298.\n",
    "T_range = 3000.\n",
    "\n",
    "# material params\n",
    "Cp = .5\n",
    "k = .01\n",
    "h = 2e-5\n",
    "Rboltz = 5.6704e-14\n",
    "emiss = .3\n",
    "rho = 8e-3\n",
    "    \n",
    "# valid data\n",
    "data = np.load('./data/1_forward/data.npy')\n",
    "test_in = torch.tensor(data[:,0:4],requires_grad=False,dtype=torch.float).to(device)\n",
    "test_out = torch.tensor(data[:,4:5],requires_grad=False,dtype=torch.float).to(device)\n",
    "    \n",
    "    \n",
    "iterations = 50000\n",
    "lr = 2e-5\n",
    "\n",
    "net = FNN([4,64,64,64,1],nn.Tanh(),in_tf=input_transform,out_tf=output_transform)\n",
    "net.to(device)\n",
    "\n",
    "point_sets,flags = generate_points([],[])\n",
    "\n",
    "l_history, err_history = train(\n",
    "    net=net,\n",
    "    PDE=PDE,\n",
    "    BC=BC,\n",
    "    point_sets=point_sets,\n",
    "    flags=flags,\n",
    "    iterations=iterations,\n",
    "    lr=lr,\n",
    "    info_num=1,  # Log every iteration\n",
    "    test_in=test_in,\n",
    "    test_out=test_out,\n",
    "    w=[1., 1e-4, 1., 1e-4],\n",
    "    inv_params=[],\n",
    "    x_min=[0, 0, 0],  # Define the spatial domain for visualization\n",
    "    x_max=[40, 10, 6]\n",
    ")\n",
    "\n",
    "\n",
    "torch.save(net.state_dict(),'./results/1_forward/no_auxilary_data.pt')\n",
    "np.save('./results/1_forward/no_auxilary_data_loss.npy',l_history)\n",
    "np.save('./results/1_forward/no_auxilary_data_error.npy',err_history)"
   ]
  },
  {
   "cell_type": "markdown",
   "metadata": {},
   "source": [
    "# The End"
   ]
  }
 ],
 "metadata": {
  "kernelspec": {
   "display_name": "Python 3 (ipykernel)",
   "language": "python",
   "name": "python3"
  },
  "language_info": {
   "codemirror_mode": {
    "name": "ipython",
    "version": 3
   },
   "file_extension": ".py",
   "mimetype": "text/x-python",
   "name": "python",
   "nbconvert_exporter": "python",
   "pygments_lexer": "ipython3",
   "version": "3.9.20"
  }
 },
 "nbformat": 4,
 "nbformat_minor": 4
}
